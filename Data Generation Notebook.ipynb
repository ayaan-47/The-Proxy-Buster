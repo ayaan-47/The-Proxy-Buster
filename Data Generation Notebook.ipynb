{
 "cells": [
  {
   "cell_type": "code",
   "execution_count": 12,
   "id": "c62e864b",
   "metadata": {},
   "outputs": [
    {
     "name": "stdout",
     "output_type": "stream",
     "text": [
      "MisterMaker\n"
     ]
    }
   ],
   "source": [
    "import cv2\n",
    "import numpy as np\n",
    "from PIL import Image \n",
    "import pickle\n",
    "import os\n",
    "print(\"MisterMaker\")"
   ]
  },
  {
   "cell_type": "code",
   "execution_count": 2,
   "id": "e01b1dae",
   "metadata": {},
   "outputs": [],
   "source": [
    "# We Have to Run this Cell for Once Only as it will generate the Pickle File for once and all.\n",
    "namelist = []\n",
    "file_name = \"namelist.pkl\"\n",
    "f = open(file_name,'wb')\n",
    "\n",
    "pickle.dump(namelist,f)\n",
    "f.close()\n",
    "\n"
   ]
  },
  {
   "cell_type": "markdown",
   "id": "2f827154",
   "metadata": {},
   "source": [
    "# For Dataset generation"
   ]
  },
  {
   "cell_type": "code",
   "execution_count": 15,
   "id": "44720a78",
   "metadata": {},
   "outputs": [
    {
     "name": "stdout",
     "output_type": "stream",
     "text": [
      "Enter Full Name for the Data Generation: female\n"
     ]
    }
   ],
   "source": [
    "face_classifier = cv2.CascadeClassifier(cv2.data.haarcascades + 'haarcascade_frontalface_default.xml')\n",
    "\n",
    "with open('namelist.pkl', 'rb') as f:\n",
    "    namelist= pickle.load(f)\n",
    "    \n",
    "name = input(\"Enter Full Name for the Data Generation: \")\n",
    "namelist.append(name)\n",
    "id = namelist.index(name)\n",
    "\n",
    "\n",
    "def face_cropped(img):\n",
    "    gray = cv2.cvtColor(img, cv2.COLOR_BGR2GRAY)\n",
    "    faces = face_classifier.detectMultiScale(gray,1.3,5)\n",
    "    for(x,y,w,h) in faces:\n",
    "        face_cropped = img[y:y+h,x:x+w]\n",
    "        return face_cropped\n",
    "    \n",
    "cap = cv2.VideoCapture(0)\n",
    "# cap.set(3, 640) # set video width\n",
    "# cap.set(4, 480) # set video height\n",
    "img_id = 0\n",
    "\n",
    "while True:\n",
    "    ret,my_frame = cap.read()\n",
    "    \n",
    "    if face_cropped(my_frame) is not None:\n",
    "        img_id+=1\n",
    "        \n",
    "        face = cv2.resize(face_cropped(my_frame),(450,450))\n",
    "        \n",
    "        face = cv2.cvtColor(face,cv2.COLOR_BGR2GRAY)\n",
    "  \n",
    "        file_path=\"data/\"+name+\".\"+str(id)+\".\"+str(img_id)+\".jpg\"\n",
    "        \n",
    "\n",
    "        cv2.imwrite(file_path,face)\n",
    "        cv2.putText(face,str(img_id),(50,50),cv2.FONT_HERSHEY_COMPLEX,2,(0,255,0),2)\n",
    "        cv2.imshow(\"Generated Face\",face)\n",
    "        \n",
    "    if cv2.waitKey(1)==13 or int(img_id) == 100:\n",
    "        break\n",
    "with open('namelist.pkl','wb') as f:\n",
    "    pickle.dump(namelist,f)\n",
    "    \n",
    "    \n",
    "\n",
    "cap.release()\n",
    "cv2.destroyAllWindows()"
   ]
  },
  {
   "cell_type": "markdown",
   "id": "18e59413",
   "metadata": {},
   "source": [
    "# Training the Model "
   ]
  },
  {
   "cell_type": "code",
   "execution_count": 8,
   "id": "74902bf6",
   "metadata": {},
   "outputs": [],
   "source": [
    "def trainer():\n",
    "    # Path for face image database\n",
    "    path = 'data'\n",
    "\n",
    "    recognizer = cv2.face.LBPHFaceRecognizer_create() \n",
    "    detector = cv2.CascadeClassifier(cv2.data.haarcascades +\"haarcascade_frontalface_default.xml\")\n",
    "\n",
    "    # function to get the images and label data\n",
    "    def imagenames(path):\n",
    "\n",
    "        imagePaths = [os.path.join(path,f) for f in os.listdir(path)]     \n",
    "        face_samples=[]\n",
    "        faceids = []\n",
    "\n",
    "        for imagePath in imagePaths:\n",
    "\n",
    "            pilimage = Image.open(imagePath).convert('L') \n",
    "            img_numpy = np.array(pilimage,'uint8')\n",
    "\n",
    "            id = int(os.path.split(imagePath)[-1].split(\".\")[1])\n",
    "            faces = detector.detectMultiScale(img_numpy)\n",
    "\n",
    "            for (x,y,w,h) in faces:\n",
    "                face_samples.append(img_numpy[y:y+h,x:x+w])\n",
    "                faceids.append(id)\n",
    "\n",
    "        return face_samples,faceids\n",
    "\n",
    "    print (\"\\nTraining Started.\\n\")\n",
    "    faces,faceids = imagenames(path)\n",
    "    recognizer.train(faces, np.array(faceids))\n",
    "\n",
    "   \n",
    "    recognizer.write('trainer/trainer.yml') \n",
    "\n",
    "   \n",
    "    print(\"{0} faces trained. Exiting Training Program\".format(len(np.unique(faceids))))"
   ]
  },
  {
   "cell_type": "code",
   "execution_count": 16,
   "id": "a9fa5c72",
   "metadata": {},
   "outputs": [
    {
     "name": "stdout",
     "output_type": "stream",
     "text": [
      "\n",
      "Training Started.\n",
      "\n",
      "3 faces trained. Exiting Training Program\n"
     ]
    }
   ],
   "source": [
    "trainer()"
   ]
  },
  {
   "cell_type": "markdown",
   "id": "90841a74",
   "metadata": {},
   "source": [
    "# Face Recognition using LPBH Algorithm \n"
   ]
  },
  {
   "cell_type": "code",
   "execution_count": 17,
   "id": "92cf0e0d",
   "metadata": {},
   "outputs": [],
   "source": [
    "def faceRecognition():\n",
    "    print('\\nStarting Recognizer....')\n",
    "    recognizer = cv2.face.LBPHFaceRecognizer_create()\n",
    "    recognizer.read('trainer/trainer.yml')\n",
    " \n",
    "    faceCascade = cv2.CascadeClassifier(cv2.data.haarcascades +\"haarcascade_frontalface_default.xml\")\n",
    "\n",
    "    font = cv2.FONT_HERSHEY_SIMPLEX\n",
    "\n",
    "    # Starting realtime video capture\n",
    "    cam = cv2.VideoCapture(0)\n",
    "    \n",
    "    # Define min window size to be recognized as a face\n",
    "    minW = 0.1*cam.get(3)\n",
    "    minH = 0.1*cam.get(4)\n",
    "\n",
    "    with open('namelist.pkl', 'rb') as f:\n",
    "        names = pickle.load(f)\n",
    "\n",
    "    while True:\n",
    "\n",
    "        ret, img = cam.read()\n",
    "        \n",
    "\n",
    "        gray = cv2.cvtColor(img,cv2.COLOR_BGR2GRAY)\n",
    "\n",
    "        faces = faceCascade.detectMultiScale( \n",
    "            gray,\n",
    "            scaleFactor = 1.2,\n",
    "            minNeighbors = 5,\n",
    "            minSize = (int(minW), int(minH)),\n",
    "           )\n",
    "\n",
    "        for(x,y,w,h) in faces:\n",
    "\n",
    "            cv2.rectangle(img, (x,y), (x+w,y+h), (0,255,0), 2)\n",
    "\n",
    "            id, confidence = recognizer.predict(gray[y:y+h,x:x+w])\n",
    "\n",
    "            # Check if confidence is less them 100 ==> \"0\" is perfect match \n",
    "            if (confidence < 100):\n",
    "                id = names[id]\n",
    "                confidence = \"  {0}%\".format(round(100 - confidence))\n",
    "            else:\n",
    "                id = \"unknown\"\n",
    "                confidence = \"  {0}%\".format(round(100 - confidence))\n",
    "\n",
    "            cv2.putText(img, str(id), (x+5,y-5), font, 1, (0,0,0), 2)\n",
    "            cv2.putText(img, str(confidence), (x+5,y+h-5), font, 1, (0,0,0), 1)  \n",
    "\n",
    "        cv2.imshow('camera',img) \n",
    "\n",
    "        k = cv2.waitKey(13) & 0xff \n",
    "        if k == 27:\n",
    "            break\n",
    "\n",
    "  \n",
    "    print(\"\\nExiting Recognizer.\")\n",
    "    cam.release()\n",
    "    cv2.destroyAllWindows()"
   ]
  },
  {
   "cell_type": "code",
   "execution_count": 18,
   "id": "b06de7f0",
   "metadata": {},
   "outputs": [
    {
     "name": "stdout",
     "output_type": "stream",
     "text": [
      "\n",
      "Starting Recognizer....\n",
      "\n",
      "Exiting Recognizer.\n"
     ]
    }
   ],
   "source": [
    "faceRecognition()"
   ]
  }
 ],
 "metadata": {
  "kernelspec": {
   "display_name": "Python 3 (ipykernel)",
   "language": "python",
   "name": "python3"
  },
  "language_info": {
   "codemirror_mode": {
    "name": "ipython",
    "version": 3
   },
   "file_extension": ".py",
   "mimetype": "text/x-python",
   "name": "python",
   "nbconvert_exporter": "python",
   "pygments_lexer": "ipython3",
   "version": "3.9.0"
  }
 },
 "nbformat": 4,
 "nbformat_minor": 5
}
