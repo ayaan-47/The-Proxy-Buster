{
 "cells": [
  {
   "cell_type": "code",
   "execution_count": 2,
   "id": "c62e864b",
   "metadata": {},
   "outputs": [],
   "source": [
    "import cv2\n",
    "import numpy as np\n",
    "from PIL import Image \n",
    "import pickle\n",
    "import os\n",
    "import session_info\n"
   ]
  },
  {
   "cell_type": "code",
   "execution_count": 3,
   "id": "97c23ff5",
   "metadata": {},
   "outputs": [
    {
     "data": {
      "text/html": [
       "<details>\n",
       "<summary>Click to view session information</summary>\n",
       "<pre>\n",
       "-----\n",
       "PIL                 8.0.1\n",
       "cv2                 4.6.0\n",
       "numpy               1.21.3\n",
       "session_info        1.0.0\n",
       "-----\n",
       "</pre>\n",
       "<details>\n",
       "<summary>Click to view modules imported as dependencies</summary>\n",
       "<pre>\n",
       "asttokens           NA\n",
       "backcall            0.2.0\n",
       "cffi                1.15.0\n",
       "colorama            0.4.4\n",
       "cython_runtime      NA\n",
       "dateutil            2.8.2\n",
       "debugpy             1.6.0\n",
       "decorator           5.1.1\n",
       "django              2.2.6\n",
       "entrypoints         0.3\n",
       "executing           0.8.3\n",
       "ipykernel           6.15.0\n",
       "ipython_genutils    0.2.0\n",
       "jedi                0.17.2\n",
       "mpl_toolkits        NA\n",
       "nt                  NA\n",
       "ntsecuritycon       NA\n",
       "packaging           21.0\n",
       "parso               0.7.1\n",
       "pickleshare         0.7.5\n",
       "pkg_resources       NA\n",
       "prompt_toolkit      3.0.30\n",
       "psutil              5.9.1\n",
       "pure_eval           0.2.2\n",
       "pydev_ipython       NA\n",
       "pydevconsole        NA\n",
       "pydevd              2.8.0\n",
       "pydevd_file_utils   NA\n",
       "pydevd_plugins      NA\n",
       "pydevd_tracing      NA\n",
       "pyexpat             NA\n",
       "pygments            2.10.0\n",
       "pythoncom           NA\n",
       "pywin32_bootstrap   NA\n",
       "pywin32_system32    NA\n",
       "pywintypes          NA\n",
       "six                 1.12.0\n",
       "stack_data          0.3.0\n",
       "tornado             6.1\n",
       "traitlets           5.3.0\n",
       "wcwidth             0.2.5\n",
       "win32api            NA\n",
       "win32com            NA\n",
       "win32security       NA\n",
       "zmq                 22.2.1\n",
       "</pre>\n",
       "</details> <!-- seems like this ends pre, so might as well be explicit -->\n",
       "<pre>\n",
       "-----\n",
       "IPython             8.4.0\n",
       "jupyter_client      7.0.1\n",
       "jupyter_core        4.7.1\n",
       "notebook            6.4.12\n",
       "-----\n",
       "Python 3.9.0 (tags/v3.9.0:9cf6752, Oct  5 2020, 15:34:40) [MSC v.1927 64 bit (AMD64)]\n",
       "Windows-10-10.0.19041-SP0\n",
       "-----\n",
       "Session information updated at 2022-11-17 00:30\n",
       "</pre>\n",
       "</details>"
      ],
      "text/plain": [
       "<IPython.core.display.HTML object>"
      ]
     },
     "execution_count": 3,
     "metadata": {},
     "output_type": "execute_result"
    }
   ],
   "source": [
    "session_info.show()"
   ]
  },
  {
   "cell_type": "code",
   "execution_count": 2,
   "id": "e01b1dae",
   "metadata": {},
   "outputs": [],
   "source": [
    "# We Have to Run this Cell for Once Only as it will generate the Pickle File for once and all.\n",
    "namelist = []\n",
    "file_name = \"namelist.pkl\"\n",
    "f = open(file_name,'wb')\n",
    "\n",
    "pickle.dump(namelist,f)\n",
    "f.close()\n",
    "\n"
   ]
  },
  {
   "cell_type": "markdown",
   "id": "2f827154",
   "metadata": {},
   "source": [
    "# For Dataset generation"
   ]
  },
  {
   "cell_type": "code",
   "execution_count": 3,
   "id": "44720a78",
   "metadata": {},
   "outputs": [
    {
     "name": "stdout",
     "output_type": "stream",
     "text": [
      "Enter Full Name for the Data Generation: Ayaan\n"
     ]
    }
   ],
   "source": [
    "face_classifier = cv2.CascadeClassifier(cv2.data.haarcascades + 'haarcascade_frontalface_default.xml')\n",
    "\n",
    "with open('namelist.pkl', 'rb') as f:\n",
    "    namelist= pickle.load(f)\n",
    "    \n",
    "name = input(\"Enter Full Name for the Data Generation: \")\n",
    "namelist.append(name)\n",
    "id = namelist.index(name)\n",
    "\n",
    "\n",
    "def face_cropped(img):\n",
    "    gray = cv2.cvtColor(img, cv2.COLOR_BGR2GRAY)\n",
    "    faces = face_classifier.detectMultiScale(gray,1.3,5)\n",
    "    for(x,y,w,h) in faces:\n",
    "        face_cropped = img[y:y+h,x:x+w]\n",
    "        return face_cropped\n",
    "    \n",
    "cap = cv2.VideoCapture(0)\n",
    "# cap.set(3, 640) # set video width\n",
    "# cap.set(4, 480) # set video height\n",
    "img_id = 0\n",
    "\n",
    "while True:\n",
    "    ret,my_frame = cap.read()\n",
    "    \n",
    "    if face_cropped(my_frame) is not None:\n",
    "        img_id+=1\n",
    "        \n",
    "        face = cv2.resize(face_cropped(my_frame),(450,450))\n",
    "        \n",
    "        face = cv2.cvtColor(face,cv2.COLOR_BGR2GRAY)\n",
    "  \n",
    "        file_path=\"data/\"+name+\".\"+str(id)+\".\"+str(img_id)+\".jpg\"\n",
    "        \n",
    "\n",
    "        cv2.imwrite(file_path,face)\n",
    "        cv2.putText(face,str(img_id),(50,50),cv2.FONT_HERSHEY_COMPLEX,2,(0,255,0),2)\n",
    "        cv2.imshow(\"Generated Face\",face)\n",
    "        \n",
    "    if cv2.waitKey(1)==13 or int(img_id) == 50:\n",
    "        break\n",
    "with open('namelist.pkl','wb') as f:\n",
    "    pickle.dump(namelist,f)\n",
    "    \n",
    "    \n",
    "\n",
    "cap.release()\n",
    "cv2.destroyAllWindows()\n",
    "print(\"The Images have been Captured !!\")"
   ]
  },
  {
   "cell_type": "code",
   "execution_count": null,
   "id": "6c4e94e5",
   "metadata": {},
   "outputs": [],
   "source": []
  }
 ],
 "metadata": {
  "kernelspec": {
   "display_name": "Python 3 (ipykernel)",
   "language": "python",
   "name": "python3"
  },
  "language_info": {
   "codemirror_mode": {
    "name": "ipython",
    "version": 3
   },
   "file_extension": ".py",
   "mimetype": "text/x-python",
   "name": "python",
   "nbconvert_exporter": "python",
   "pygments_lexer": "ipython3",
   "version": "3.9.0"
  }
 },
 "nbformat": 4,
 "nbformat_minor": 5
}
