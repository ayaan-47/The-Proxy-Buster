{
 "cells": [
  {
   "cell_type": "code",
   "execution_count": 1,
   "id": "9465169f",
   "metadata": {},
   "outputs": [],
   "source": [
    "import cv2"
   ]
  },
  {
   "cell_type": "code",
   "execution_count": 2,
   "id": "c994a4cc",
   "metadata": {},
   "outputs": [],
   "source": [
    "face_classifier = cv2.CascadeClassifier(cv2.data.haarcascades + 'haarcascade_frontalface_default.xml')"
   ]
  },
  {
   "cell_type": "code",
   "execution_count": 6,
   "id": "2da9f7df",
   "metadata": {},
   "outputs": [],
   "source": [
    "def face_generated(img):\n",
    "    grayscale = cv2.cvtColor(img, cv2.COLOR_BGR2GRAY)\n",
    "    faces = face_classifier.detectMultiScale(grayscale,1.3,5)\n",
    "    \n",
    "    for(x,y,w,h) in faces:\n",
    "        face_generated = img[y:y+h,x:x+w]\n",
    "        return face_generated\n",
    "    \n",
    "cap = cv2.VideoCapture(0)\n",
    "cap.set(3, 640) # set video width\n",
    "cap.set(4, 480) # set video height\n",
    "img_id = 0\n",
    "\n",
    "while True:\n",
    "    temp,iimg = cap.read()\n",
    "    \n",
    "    if face_generated(iimg) is not None:\n",
    "        img_id+=1\n",
    "        \n",
    "        face = cv2.resize(face_generated(iimg),(450,450))\n",
    "        \n",
    "        face = cv2.cvtColor(face,cv2.COLOR_BGR2GRAY)\n",
    "        file_path = \"datagen/Person.\"+str(id)+\".\"+str(img_id)+\".jpg\"\n",
    "        cv2.imwrite(file_path,face)\n",
    "        cv2.putText(face,str(img_id),(50,50),cv2.FONT_HERSHEY_COMPLEX,2,(0,255,0),2)\n",
    "\n",
    "        cv2.imshow(\"Generated Face\",face)\n",
    "        \n",
    "    if cv2.waitKey(1)==13 or int(img_id) == 10:\n",
    "        break\n",
    "cap.release()\n",
    "cv2.destroyAllWindows()\n",
    "    "
   ]
  },
  {
   "cell_type": "code",
   "execution_count": null,
   "id": "3c8ec0b1",
   "metadata": {},
   "outputs": [],
   "source": []
  }
 ],
 "metadata": {
  "kernelspec": {
   "display_name": "Python 3 (ipykernel)",
   "language": "python",
   "name": "python3"
  },
  "language_info": {
   "codemirror_mode": {
    "name": "ipython",
    "version": 3
   },
   "file_extension": ".py",
   "mimetype": "text/x-python",
   "name": "python",
   "nbconvert_exporter": "python",
   "pygments_lexer": "ipython3",
   "version": "3.9.0"
  }
 },
 "nbformat": 4,
 "nbformat_minor": 5
}
