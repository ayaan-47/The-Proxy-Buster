{
 "cells": [
  {
   "cell_type": "code",
   "execution_count": 2,
   "id": "57fc4289",
   "metadata": {},
   "outputs": [],
   "source": [
    "import cv2"
   ]
  },
  {
   "cell_type": "code",
   "execution_count": 6,
   "id": "25676592",
   "metadata": {},
   "outputs": [],
   "source": [
    "\n",
    "face_classifier = cv2.CascadeClassifier(cv2.data.haarcascades + 'haarcascade_frontalface_default.xml')\n",
    "cap  = cv2.VideoCapture(0)\n",
    "while True:\n",
    "    _,img = cap.read()\n",
    "    \n",
    "    grayscale = cv2.cvtColor(img, cv2.COLOR_BGR2GRAY)\n",
    "    \n",
    "    faces = face_classifier.detectMultiScale(grayscale, 1.1 ,6)\n",
    "    for(x, y, w, h) in faces:\n",
    "        cv2.rectangle(img, (x, y), (x+w, y+h), (0, 0, 250), 2)\n",
    "    cv2.imshow('Detected Face Image',  img)\n",
    "    cv2.putText(img, f\"{faces.shape[0]} Number of Faces Detected \",(x,y),cv2.FONT_HERSHEY_DUPLEX,1,(255,0,0),2)\n",
    "\n",
    "\n",
    "   \n",
    "    if cv2.waitKey(1) & 0xff == ord(' '):\n",
    "        break\n",
    "\n",
    "cap.release()\n",
    "cv2.destroyAllWindows()\n",
    "\n",
    "\n",
    "\n",
    "\n",
    "\n"
   ]
  }
 ],
 "metadata": {
  "kernelspec": {
   "display_name": "Python 3 (ipykernel)",
   "language": "python",
   "name": "python3"
  },
  "language_info": {
   "codemirror_mode": {
    "name": "ipython",
    "version": 3
   },
   "file_extension": ".py",
   "mimetype": "text/x-python",
   "name": "python",
   "nbconvert_exporter": "python",
   "pygments_lexer": "ipython3",
   "version": "3.9.0"
  }
 },
 "nbformat": 4,
 "nbformat_minor": 5
}
