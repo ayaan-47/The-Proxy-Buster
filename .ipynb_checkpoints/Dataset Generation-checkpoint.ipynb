{
 "cells": [
  {
   "cell_type": "code",
   "execution_count": 2,
   "id": "c62e864b",
   "metadata": {},
   "outputs": [],
   "source": [
    "import cv2\n",
    "import numpy as np\n",
    "from PIL import Image \n",
    "import pickle\n",
    "import os\n"
   ]
  },
  {
   "cell_type": "code",
   "execution_count": 3,
   "id": "e01b1dae",
   "metadata": {},
   "outputs": [],
   "source": [
    "# We Have to Run this Cell for Once Only as it will generate the Pickle File for once and all.\n",
    "namelist = []\n",
    "file_name = \"namelist.pkl\"\n",
    "f = open(file_name,'wb')\n",
    "\n",
    "pickle.dump(namelist,f)\n",
    "f.close()\n",
    "\n"
   ]
  },
  {
   "cell_type": "markdown",
   "id": "2f827154",
   "metadata": {},
   "source": [
    "# For Dataset generation"
   ]
  },
  {
   "cell_type": "code",
   "execution_count": 4,
   "id": "44720a78",
   "metadata": {},
   "outputs": [
    {
     "name": "stdout",
     "output_type": "stream",
     "text": [
      "Enter Full Name for the Data Generation: Ayaan\n"
     ]
    }
   ],
   "source": [
    "face_classifier = cv2.CascadeClassifier(cv2.data.haarcascades + 'haarcascade_frontalface_default.xml')\n",
    "\n",
    "with open('namelist.pkl', 'rb') as f:\n",
    "    namelist= pickle.load(f)\n",
    "    \n",
    "name = input(\"Enter Full Name for the Data Generation: \")\n",
    "namelist.append(name)\n",
    "id = namelist.index(name)\n",
    "\n",
    "\n",
    "def face_cropped(img):\n",
    "    gray = cv2.cvtColor(img, cv2.COLOR_BGR2GRAY)\n",
    "    faces = face_classifier.detectMultiScale(gray,1.3,5)\n",
    "    for(x,y,w,h) in faces:\n",
    "        face_cropped = img[y:y+h,x:x+w]\n",
    "        return face_cropped\n",
    "    \n",
    "cap = cv2.VideoCapture(0)\n",
    "# cap.set(3, 640) # set video width\n",
    "# cap.set(4, 480) # set video height\n",
    "img_id = 0\n",
    "\n",
    "while True:\n",
    "    ret,my_frame = cap.read()\n",
    "    \n",
    "    if face_cropped(my_frame) is not None:\n",
    "        img_id+=1\n",
    "        \n",
    "        face = cv2.resize(face_cropped(my_frame),(450,450))\n",
    "        \n",
    "        face = cv2.cvtColor(face,cv2.COLOR_BGR2GRAY)\n",
    "  \n",
    "        file_path=\"data/\"+name+\".\"+str(id)+\".\"+str(img_id)+\".jpg\"\n",
    "        \n",
    "\n",
    "        cv2.imwrite(file_path,face)\n",
    "        cv2.putText(face,str(img_id),(50,50),cv2.FONT_HERSHEY_COMPLEX,2,(0,255,0),2)\n",
    "        cv2.imshow(\"Generated Face\",face)\n",
    "        \n",
    "    if cv2.waitKey(1)==13 or int(img_id) == 50:\n",
    "        break\n",
    "with open('namelist.pkl','wb') as f:\n",
    "    pickle.dump(namelist,f)\n",
    "    \n",
    "    \n",
    "\n",
    "cap.release()\n",
    "cv2.destroyAllWindows()"
   ]
  },
  {
   "cell_type": "code",
   "execution_count": null,
   "id": "6c4e94e5",
   "metadata": {},
   "outputs": [],
   "source": []
  }
 ],
 "metadata": {
  "kernelspec": {
   "display_name": "Python 3 (ipykernel)",
   "language": "python",
   "name": "python3"
  },
  "language_info": {
   "codemirror_mode": {
    "name": "ipython",
    "version": 3
   },
   "file_extension": ".py",
   "mimetype": "text/x-python",
   "name": "python",
   "nbconvert_exporter": "python",
   "pygments_lexer": "ipython3",
   "version": "3.9.0"
  }
 },
 "nbformat": 4,
 "nbformat_minor": 5
}
