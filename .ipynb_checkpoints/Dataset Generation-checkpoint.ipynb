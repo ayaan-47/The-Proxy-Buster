{
 "cells": [
  {
   "cell_type": "code",
   "execution_count": 9,
   "id": "c62e864b",
   "metadata": {},
   "outputs": [],
   "source": [
    "import cv2\n",
    "import numpy as np\n",
    "from PIL import Image \n",
    "import pickle\n",
    "import os\n"
   ]
  },
  {
   "cell_type": "markdown",
   "id": "2f827154",
   "metadata": {},
   "source": [
    "# For Dataset generation"
   ]
  },
  {
   "cell_type": "code",
   "execution_count": 21,
   "id": "44720a78",
   "metadata": {},
   "outputs": [
    {
     "name": "stdout",
     "output_type": "stream",
     "text": [
      "Enter Full Name for the Data Generation: asdas\n",
      "The Images have been Captured !!\n"
     ]
    }
   ],
   "source": [
    "face_classifier = cv2.CascadeClassifier(cv2.data.haarcascades + 'haarcascade_frontalface_default.xml')\n",
    "\n",
    "    \n",
    "name = input(\"Enter Full Name for the Data Generation: \")\n",
    "\n",
    "\n",
    "def face_cropped(img):\n",
    "    \n",
    "    faces = face_classifier.detectMultiScale(img,1.3,5)\n",
    "    for(x,y,w,h) in faces:\n",
    "        #cv2.rectangle(img, (x,y), (x+w,y+h), (0,255,0), 2)\n",
    "        face_cropped = img\n",
    "        #face_cropped = img\n",
    "        return face_cropped\n",
    "    \n",
    "cap = cv2.VideoCapture(0)\n",
    "# cap.set(3, 640) # set video width\n",
    "# cap.set(4, 480) # set video height\n",
    "img_id = 0\n",
    "\n",
    "while True:\n",
    "    ret,my_frame = cap.read()\n",
    "    \n",
    "    if face_cropped(my_frame) is not None:\n",
    "        img_id+=1\n",
    "        \n",
    "        face = cv2.resize(face_cropped(my_frame),(580,480))\n",
    "        \n",
    "#         face = cv2.cvtColor(face,cv2.COLOR_BGR2GRAY)\n",
    "  \n",
    "        file_path=\"data/\"+name+\".\"+str(img_id)+\".jpg\"\n",
    "        \n",
    "\n",
    "#         cv2.imwrite(file_path,face)\n",
    "        cv2.putText(face,str(img_id),(50,50),cv2.FONT_HERSHEY_COMPLEX,2,(0,255,0),2)\n",
    "        cv2.imshow(\"Generated Face\",face)\n",
    "        \n",
    "    if cv2.waitKey(1)==13:\n",
    "        break\n",
    "\n",
    "        \n",
    "    \n",
    "\n",
    "cap.release()\n",
    "cv2.destroyAllWindows()\n",
    "print(\"The Images have been Captured !!\")"
   ]
  },
  {
   "cell_type": "code",
   "execution_count": null,
   "id": "6c4e94e5",
   "metadata": {},
   "outputs": [],
   "source": []
  }
 ],
 "metadata": {
  "kernelspec": {
   "display_name": "Python 3 (ipykernel)",
   "language": "python",
   "name": "python3"
  },
  "language_info": {
   "codemirror_mode": {
    "name": "ipython",
    "version": 3
   },
   "file_extension": ".py",
   "mimetype": "text/x-python",
   "name": "python",
   "nbconvert_exporter": "python",
   "pygments_lexer": "ipython3",
   "version": "3.10.8"
  }
 },
 "nbformat": 4,
 "nbformat_minor": 5
}
