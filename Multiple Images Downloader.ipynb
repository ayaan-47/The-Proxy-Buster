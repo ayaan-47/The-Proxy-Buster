{
 "cells": [
  {
   "cell_type": "code",
   "execution_count": null,
   "id": "48e422a1",
   "metadata": {},
   "outputs": [],
   "source": [
    "import os\n",
    "import requests\n",
    "from bs4 import BeautifulSoup\n",
    "def download_images(url, n):\n",
    "    # Send a GET request to the provided URL\n",
    "    response = requests.get(url)\n",
    "\n",
    "    # Parse the HTML content using BeautifulSoup\n",
    "    soup = BeautifulSoup(response.content, 'html.parser')\n",
    "\n",
    "    # Find all image tags\n",
    "    image_tags = soup.find_all('img')\n",
    "\n",
    "    # Create a directory to save the downloaded images\n",
    "    os.makedirs('images', exist_ok=True)\n",
    "\n",
    "    # Iterate over the image tags and download the images\n",
    "    for index, img in enumerate(image_tags[:n]):\n",
    "        img_url = img['src']\n",
    "        try:\n",
    "            # Send a GET request to download the image\n",
    "            response = requests.get(img_url)\n",
    "\n",
    "            # Save the image to the 'images' directory\n",
    "            with open(f'images/image_{index}.jpg', 'wb') as f:\n",
    "                f.write(response.content)\n",
    "\n",
    "            print(f\"Image {index + 1} downloaded successfully.\")\n",
    "        except Exception as e:\n",
    "            print(f\"Failed to download image {index + 1}. Error: {e}\")\n",
    "\n",
    "# Example usage\n",
    "search_url = 'https://www.google.com/search?q=keanu+Reaves+face&oq=keanu+Reaves+face+&aqs=chrome..69i57.4928j0j1&sourceid=chrome&ie=UTF-8'\n",
    "num_images = 5\n",
    "download_images(search_url, num_images)\n"
   ]
  },
  {
   "cell_type": "code",
   "execution_count": 16,
   "id": "628f5ebc",
   "metadata": {},
   "outputs": [],
   "source": [
    "from pygoogle_image import image as pi\n",
    "import os"
   ]
  },
  {
   "cell_type": "code",
   "execution_count": 17,
   "id": "202aa70b",
   "metadata": {},
   "outputs": [],
   "source": [
    "ne = 'C:/Users/Amaan/Desktop/Training Pictures/trainer/all_images/images'"
   ]
  },
  {
   "cell_type": "code",
   "execution_count": 18,
   "id": "84c41f50",
   "metadata": {},
   "outputs": [],
   "source": [
    "os.chdir(ne)"
   ]
  },
  {
   "cell_type": "code",
   "execution_count": 19,
   "id": "7c73e316",
   "metadata": {},
   "outputs": [
    {
     "name": "stderr",
     "output_type": "stream",
     "text": [
      "[========================================================================] 100%\n"
     ]
    }
   ],
   "source": [
    "pi.download(\"Keanu Reeves face Images\",limit = 50)"
   ]
  },
  {
   "cell_type": "code",
   "execution_count": null,
   "id": "a3dc8cf1",
   "metadata": {},
   "outputs": [],
   "source": []
  }
 ],
 "metadata": {
  "kernelspec": {
   "display_name": "Python 3 (ipykernel)",
   "language": "python",
   "name": "python3"
  },
  "language_info": {
   "codemirror_mode": {
    "name": "ipython",
    "version": 3
   },
   "file_extension": ".py",
   "mimetype": "text/x-python",
   "name": "python",
   "nbconvert_exporter": "python",
   "pygments_lexer": "ipython3",
   "version": "3.9.0"
  }
 },
 "nbformat": 4,
 "nbformat_minor": 5
}
